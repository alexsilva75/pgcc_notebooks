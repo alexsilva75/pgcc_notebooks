{
 "cells": [
  {
   "cell_type": "code",
   "execution_count": 1,
   "id": "26286337-b0d3-45e8-ae6e-361a99ec59ee",
   "metadata": {},
   "outputs": [],
   "source": [
    "import torchvision\n",
    "from torchvision import datasets, transforms\n",
    "import cv2\n",
    "import skimage as ski\n",
    "from skimage import color\n",
    "import torch"
   ]
  },
  {
   "cell_type": "code",
   "execution_count": 2,
   "id": "78dcd9be-354c-4dae-b67c-3a103a04d0ce",
   "metadata": {},
   "outputs": [],
   "source": [
    "image_path = './images/1_Normal_AZAN_0_edge.JPG'"
   ]
  },
  {
   "cell_type": "code",
   "execution_count": 4,
   "id": "8342ec5a-72f0-4c1d-ae83-4d778d773e5b",
   "metadata": {},
   "outputs": [
    {
     "data": {
      "text/plain": [
       "(2837, 2448, 3)"
      ]
     },
     "execution_count": 4,
     "metadata": {},
     "output_type": "execute_result"
    }
   ],
   "source": [
    "cv2_img = cv2.imread(image_path)\n",
    "cv2_img.shape"
   ]
  },
  {
   "cell_type": "code",
   "execution_count": 6,
   "id": "8677221c-7dc9-48c6-813a-7e471a70bd50",
   "metadata": {},
   "outputs": [],
   "source": [
    "transf = transforms.Compose([transforms.RandomHorizontalFlip(p=0.25),\n",
    "                            transforms.RandomVerticalFlip(p=0.25),\n",
    "                             transforms.ToTensor()])"
   ]
  },
  {
   "cell_type": "code",
   "execution_count": 7,
   "id": "55fd8a22-2083-4238-8d43-53b88edf8b71",
   "metadata": {},
   "outputs": [],
   "source": [
    "lab_img = cv2.cvtColor(cv2_img, cv2.COLOR_BGR2LAB)"
   ]
  },
  {
   "cell_type": "code",
   "execution_count": 8,
   "id": "66344a62-d4c3-4a6f-9d5a-e2c8724f124c",
   "metadata": {},
   "outputs": [
    {
     "data": {
      "text/plain": [
       "torch.Size([3, 2837, 2448])"
      ]
     },
     "execution_count": 8,
     "metadata": {},
     "output_type": "execute_result"
    }
   ],
   "source": [
    "transf_img = transf(lab_img)\n",
    "transf_img.shape"
   ]
  }
 ],
 "metadata": {
  "kernelspec": {
   "display_name": "Python 3 (ipykernel)",
   "language": "python",
   "name": "python3"
  },
  "language_info": {
   "codemirror_mode": {
    "name": "ipython",
    "version": 3
   },
   "file_extension": ".py",
   "mimetype": "text/x-python",
   "name": "python",
   "nbconvert_exporter": "python",
   "pygments_lexer": "ipython3",
   "version": "3.8.10"
  }
 },
 "nbformat": 4,
 "nbformat_minor": 5
}
