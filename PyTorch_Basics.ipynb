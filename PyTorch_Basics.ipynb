{
 "cells": [
  {
   "cell_type": "code",
   "execution_count": 1,
   "id": "f5f4324e-54a4-4562-8ac8-176c4f9348cb",
   "metadata": {},
   "outputs": [],
   "source": [
    "import torch"
   ]
  },
  {
   "cell_type": "code",
   "execution_count": 2,
   "id": "b7dad9b3-098b-45e6-a8da-4cde78648412",
   "metadata": {},
   "outputs": [
    {
     "name": "stdout",
     "output_type": "stream",
     "text": [
      "Input: tensor([[ 0.6301,  0.9311,  1.5616,  ..., -1.4857, -0.0526, -0.4488],\n",
      "        [ 0.7230,  0.0365, -0.1017,  ..., -1.1195,  0.1788, -0.1635],\n",
      "        [ 0.1464, -0.7547,  1.7467,  ...,  1.6025,  0.2689,  0.2347],\n",
      "        ...,\n",
      "        [ 1.0643,  1.2201,  1.7154,  ..., -0.1849,  1.3714, -0.5509],\n",
      "        [ 0.1265, -0.3147, -0.8087,  ..., -1.1544,  0.1203, -0.9606],\n",
      "        [ 0.7078, -0.1613, -2.4266,  ...,  1.5252,  0.1467, -1.8010]])\n",
      "\n",
      "Output: tensor([[ 0.6301,  0.9311,  1.5616,  ..., -1.4857, -0.0526, -0.4488],\n",
      "        [ 0.7230,  0.0365, -0.1017,  ..., -1.1195,  0.1788, -0.1635],\n",
      "        [ 0.1464, -0.7547,  1.7467,  ...,  1.6025,  0.2689,  0.2347],\n",
      "        ...,\n",
      "        [ 1.0643,  1.2201,  1.7154,  ..., -0.1849,  1.3714, -0.5509],\n",
      "        [ 0.1265, -0.3147, -0.8087,  ..., -1.1544,  0.1203, -0.9606],\n",
      "        [ 0.7078, -0.1613, -2.4266,  ...,  1.5252,  0.1467, -1.8010]])\n",
      "torch.Size([128, 20])\n"
     ]
    },
    {
     "data": {
      "text/plain": [
       "torch.Size([128, 20])"
      ]
     },
     "execution_count": 2,
     "metadata": {},
     "output_type": "execute_result"
    }
   ],
   "source": [
    "m = torch.nn.Identity()\n",
    "input = torch.randn(128, 20)\n",
    "print(f\"Input: {input}\")\n",
    "print()\n",
    "output = m(input)\n",
    "print(f\"Output: {input}\")\n",
    "print(output.size())\n",
    "torch.Size([128, 20])"
   ]
  },
  {
   "cell_type": "code",
   "execution_count": 3,
   "id": "b4d78742-786d-41ba-8302-2da7db3bba20",
   "metadata": {},
   "outputs": [
    {
     "data": {
      "text/plain": [
       "tensor(79.3932)"
      ]
     },
     "execution_count": 3,
     "metadata": {},
     "output_type": "execute_result"
    }
   ],
   "source": [
    "input.sum().absolute()"
   ]
  },
  {
   "cell_type": "code",
   "execution_count": 4,
   "id": "41e358c7-9cea-4b0f-8a45-fe58f9d6fe24",
   "metadata": {},
   "outputs": [
    {
     "data": {
      "text/plain": [
       "tensor([3, 2, 3])"
      ]
     },
     "execution_count": 4,
     "metadata": {},
     "output_type": "execute_result"
    }
   ],
   "source": [
    "y_fool = torch.tensor([3,2,3])\n",
    "y_fool"
   ]
  },
  {
   "cell_type": "code",
   "execution_count": 5,
   "id": "fbfec8e8-d7c7-4858-83dd-3167ac11a4fc",
   "metadata": {},
   "outputs": [
    {
     "data": {
      "text/plain": [
       "tensor([[3],\n",
       "        [2],\n",
       "        [3]])"
      ]
     },
     "execution_count": 5,
     "metadata": {},
     "output_type": "execute_result"
    }
   ],
   "source": [
    "y_fool = y_fool.unsqueeze(1)\n",
    "y_fool"
   ]
  },
  {
   "cell_type": "code",
   "execution_count": 6,
   "id": "6a278366-4dd0-4433-9403-6059176a16c2",
   "metadata": {},
   "outputs": [
    {
     "data": {
      "text/plain": [
       "tensor([[3, 3, 1, 1],\n",
       "        [2, 4, 2, 2],\n",
       "        [3, 5, 3, 3]])"
      ]
     },
     "execution_count": 6,
     "metadata": {},
     "output_type": "execute_result"
    }
   ],
   "source": [
    "y_fool = torch.cat((y_fool, torch.tensor([3,4,5]).unsqueeze(1)), 1)\n",
    "y_fool = torch.cat((y_fool, torch.tensor([1,2,3]).unsqueeze(1)), 1)\n",
    "y_fool = torch.cat((y_fool, torch.tensor([1,2,3]).unsqueeze(1)), 1)\n",
    "y_fool"
   ]
  },
  {
   "cell_type": "code",
   "execution_count": null,
   "id": "7d67ad16-2bbf-4d55-a0f2-45f36e6f8cfb",
   "metadata": {},
   "outputs": [],
   "source": []
  },
  {
   "cell_type": "code",
   "execution_count": 7,
   "id": "08ef3566-c899-44d7-8f78-1b9d7852cfef",
   "metadata": {},
   "outputs": [
    {
     "data": {
      "text/plain": [
       "tensor([1, 2, 3])"
      ]
     },
     "execution_count": 7,
     "metadata": {},
     "output_type": "execute_result"
    }
   ],
   "source": [
    "y_poll, _ = torch.mode(y_fool, dim=1)\n",
    "y_poll.cpu()"
   ]
  },
  {
   "cell_type": "code",
   "execution_count": 9,
   "id": "6a20052d-8611-4c19-b34a-f643fa4d815b",
   "metadata": {},
   "outputs": [],
   "source": [
    "threshold = -13.0000"
   ]
  },
  {
   "cell_type": "code",
   "execution_count": 96,
   "id": "7a167ff6-396e-4556-b14b-4bd33f07e57c",
   "metadata": {},
   "outputs": [],
   "source": [
    "scores = torch.tensor([[-25.3880, -11.3583],\n",
    "        [-22.2457, -11.0157],\n",
    "        [-21.2706, -13.6260],\n",
    "        [-25.3501, -15.3649],\n",
    "        [-19.2668, -10.4720],\n",
    "        [ -9.1738, -21.5336],\n",
    "        [-24.6928, -14.1541],\n",
    "        [-20.4336,  -9.0227],\n",
    "        [ -9.9925, -21.4996],\n",
    "        [ -9.4385, -20.3439],\n",
    "        [ -9.8624, -21.6132],\n",
    "        [-11.9485, -21.0638],\n",
    "        [ -9.5145, -20.6907],\n",
    "        [-13.0642, -20.6096],\n",
    "        [ -7.8694, -20.3417],\n",
    "        [-11.2971, -19.8578]])"
   ]
  },
  {
   "cell_type": "code",
   "execution_count": 97,
   "id": "5303f3d5-e387-47ef-9096-845831b595f4",
   "metadata": {},
   "outputs": [
    {
     "data": {
      "text/plain": [
       "tensor([[-25.3880, -11.3583],\n",
       "        [-22.2457, -11.0157],\n",
       "        [-21.2706, -13.6260],\n",
       "        [-25.3501, -15.3649],\n",
       "        [-19.2668, -10.4720],\n",
       "        [ -9.1738, -21.5336],\n",
       "        [-24.6928, -14.1541],\n",
       "        [-20.4336,  -9.0227],\n",
       "        [ -9.9925, -21.4996],\n",
       "        [ -9.4385, -20.3439],\n",
       "        [ -9.8624, -21.6132],\n",
       "        [-11.9485, -21.0638],\n",
       "        [ -9.5145, -20.6907],\n",
       "        [-13.0642, -20.6096],\n",
       "        [ -7.8694, -20.3417],\n",
       "        [-11.2971, -19.8578]])"
      ]
     },
     "execution_count": 97,
     "metadata": {},
     "output_type": "execute_result"
    }
   ],
   "source": [
    "scores"
   ]
  },
  {
   "cell_type": "code",
   "execution_count": 98,
   "id": "5ac5301e-726f-4209-9f4c-181dadf3c81a",
   "metadata": {},
   "outputs": [
    {
     "name": "stdout",
     "output_type": "stream",
     "text": [
      "0 tensor(-11.3583)\n",
      "1 tensor(-11.0157)\n",
      "2 tensor(-13.6260)\n",
      "3 tensor(-15.3649)\n",
      "4 tensor(-10.4720)\n",
      "6 tensor(-14.1541)\n",
      "7 tensor(-9.0227)\n"
     ]
    }
   ],
   "source": [
    "for index, score in enumerate(scores):\n",
    "    if score[1] > score[0]:\n",
    "        print(index, score[1])"
   ]
  },
  {
   "cell_type": "code",
   "execution_count": 105,
   "id": "30a5d71f-5f91-41d6-9e25-8c2043b75a9a",
   "metadata": {},
   "outputs": [
    {
     "data": {
      "text/plain": [
       "tensor([[-38.3880,   1.6417],\n",
       "        [-35.2457,   1.9843],\n",
       "        [-34.2706,  -0.6260],\n",
       "        [-38.3501,  -2.3649],\n",
       "        [-32.2668,   2.5280],\n",
       "        [  3.8262, -34.5336],\n",
       "        [-37.6928,  -1.1541],\n",
       "        [-33.4336,   3.9773],\n",
       "        [  3.0075, -34.4996],\n",
       "        [  3.5615, -33.3439],\n",
       "        [  3.1376, -34.6132],\n",
       "        [  1.0515, -34.0638],\n",
       "        [  3.4855, -33.6907],\n",
       "        [ -0.0642, -33.6096],\n",
       "        [  5.1306, -33.3417],\n",
       "        [  1.7029, -32.8578]])"
      ]
     },
     "execution_count": 105,
     "metadata": {},
     "output_type": "execute_result"
    }
   ],
   "source": [
    "new_scores = None\n",
    "for index, score in enumerate(scores):\n",
    "    # print(index)\n",
    "    if score[1] > score[0]:\n",
    "        new_score = torch.tensor([score[0] + threshold, score[1] + -threshold ])\n",
    "\n",
    "    else:\n",
    "        new_score = torch.tensor([score[0] + -threshold, score[1] + threshold])\n",
    "\n",
    "    if new_scores is None:\n",
    "        new_scores = new_score.unsqueeze(0)        \n",
    "    else:\n",
    "        new_scores = torch.cat((new_scores, new_score.unsqueeze(0)),0)\n",
    "\n",
    "new_scores"
   ]
  },
  {
   "cell_type": "code",
   "execution_count": 104,
   "id": "785a9e23-cc4c-4642-a0c5-6ffe24bad3af",
   "metadata": {},
   "outputs": [
    {
     "name": "stdout",
     "output_type": "stream",
     "text": [
      "0 tensor(1.6417)\n",
      "1 tensor(1.9843)\n",
      "2 tensor(-0.6260)\n",
      "3 tensor(-2.3649)\n",
      "4 tensor(2.5280)\n",
      "6 tensor(-1.1541)\n",
      "7 tensor(3.9773)\n"
     ]
    }
   ],
   "source": [
    "for index, score in enumerate(new_scores):\n",
    "    if score[1] > score[0]:\n",
    "        print(index, score[1])"
   ]
  },
  {
   "cell_type": "code",
   "execution_count": 51,
   "id": "e4adbe5c-0811-40bc-912d-f84a4ea901a8",
   "metadata": {},
   "outputs": [
    {
     "data": {
      "text/plain": [
       "torch.return_types.max(\n",
       "values=tensor([ 1.6417,  1.9843, -0.6260, -2.3649,  2.5280,  3.8262, -1.1541,  3.9773,\n",
       "         3.0075,  3.5615,  3.1376,  1.0515,  3.4855, -0.0642,  5.1306,  1.7029]),\n",
       "indices=tensor([1, 1, 1, 1, 1, 0, 1, 1, 0, 0, 0, 0, 0, 0, 0, 0]))"
      ]
     },
     "execution_count": 51,
     "metadata": {},
     "output_type": "execute_result"
    }
   ],
   "source": [
    "torch.max(subtracted_scores,1)"
   ]
  },
  {
   "cell_type": "code",
   "execution_count": 48,
   "id": "5223d573-776c-4b15-8f44-948f8f385c72",
   "metadata": {},
   "outputs": [
    {
     "data": {
      "text/plain": [
       "(tensor([-11.3583, -11.0157, -13.6260, -15.3649, -10.4720,  -9.1738, -14.1541,\n",
       "          -9.0227,  -9.9925,  -9.4385,  -9.8624, -11.9485,  -9.5145, -13.0642,\n",
       "          -7.8694, -11.2971]),\n",
       " tensor([1, 1, 1, 1, 1, 0, 1, 1, 0, 0, 0, 0, 0, 0, 0, 0]))"
      ]
     },
     "execution_count": 48,
     "metadata": {},
     "output_type": "execute_result"
    }
   ],
   "source": [
    "values, indices =torch.max(scores, 1)\n",
    "\n",
    "values, indices"
   ]
  },
  {
   "cell_type": "code",
   "execution_count": 45,
   "id": "853b81ff-edf5-4c03-8a2f-c6286ae846e7",
   "metadata": {},
   "outputs": [
    {
     "data": {
      "text/plain": [
       "tensor([1, 1, 0, 0, 1, 0, 0, 1, 0, 0, 0, 0, 0, 0, 0, 0], dtype=torch.int32)"
      ]
     },
     "execution_count": 45,
     "metadata": {},
     "output_type": "execute_result"
    }
   ],
   "source": [
    "bool_preds = ( (indices == 1) & (values > -13.0000) )\n",
    "bool_preds.int()"
   ]
  },
  {
   "cell_type": "code",
   "execution_count": 46,
   "id": "d2ba7fec-9a5c-4a13-ac17-882e528803fa",
   "metadata": {},
   "outputs": [
    {
     "data": {
      "text/plain": [
       "tensor([1, 1, 0, 0, 1, 0, 0, 1, 0, 0, 0, 0, 0, 0, 0, 0])"
      ]
     },
     "execution_count": 46,
     "metadata": {},
     "output_type": "execute_result"
    }
   ],
   "source": [
    "( (indices == 1) & (values > -13.0000) ).long()"
   ]
  }
 ],
 "metadata": {
  "kernelspec": {
   "display_name": "Python 3 (ipykernel)",
   "language": "python",
   "name": "python3"
  },
  "language_info": {
   "codemirror_mode": {
    "name": "ipython",
    "version": 3
   },
   "file_extension": ".py",
   "mimetype": "text/x-python",
   "name": "python",
   "nbconvert_exporter": "python",
   "pygments_lexer": "ipython3",
   "version": "3.8.10"
  }
 },
 "nbformat": 4,
 "nbformat_minor": 5
}
