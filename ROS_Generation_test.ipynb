{
 "cells": [
  {
   "cell_type": "code",
   "execution_count": 4,
   "id": "5f2ab1bc-d9b0-489d-8553-3175fe0c9ad5",
   "metadata": {},
   "outputs": [],
   "source": [
    "import sys\n",
    "import shutil\n",
    "import os\n",
    "from os import path\n",
    "import torch\n",
    "import torchvision.transforms as transforms\n",
    "from torchvision import datasets\n",
    "from torch.utils.data import DataLoader, random_split\n",
    "from torchvision.utils import save_image\n",
    "import shutil\n",
    "from sklearn.model_selection import KFold\n",
    "from sklearn.utils import resample\n",
    "import numpy as np\n",
    "\n",
    "K = 5\n"
   ]
  },
  {
   "cell_type": "code",
   "execution_count": 5,
   "id": "26a7eac0-3ac2-4ca9-8b6a-2f23ba2b8d2b",
   "metadata": {},
   "outputs": [],
   "source": [
    "base_dir = '/home/alexsandro/dev/UEFS/PROJETO_PESQUISA/LACAD/pgcc-notebooks/data/cross_validation/baseline'\n",
    "dest_dir = '/home/alexsandro/dev/UEFS/PROJETO_PESQUISA/LACAD/pgcc-notebooks/data/cross_validation/ros'\n",
    "POSITIVE_FOLDER = '1_Amyloidosis'\n",
    "NEGATIVE_FOLDER = '0_Non_Amyloidosis'"
   ]
  },
  {
   "cell_type": "code",
   "execution_count": 9,
   "id": "e0807e9c-131a-4551-b72d-4b60e5483319",
   "metadata": {},
   "outputs": [
    {
     "name": "stdout",
     "output_type": "stream",
     "text": [
      "Fold 1, Sub folder: train\n",
      "Fold 1, Sub folder: val\n",
      "Fold 1, Sub folder: train\n",
      "Fold 1, Sub folder: val\n",
      "Fold 1, Sub folder: train\n",
      "Fold 1, Sub folder: val\n",
      "Fold 1, Sub folder: train\n",
      "Fold 1, Sub folder: val\n",
      "Fold 1, Sub folder: train\n",
      "Fold 1, Sub folder: val\n"
     ]
    }
   ],
   "source": [
    "for fold in range(1, K + 1):\n",
    "        for sub_fold in ['train', 'val']:\n",
    "            print(f\"Fold {1}, Sub folder: {sub_fold}\")\n",
    "            positive_source_fold_path = base_dir + os.sep + 'fold' + str(fold) + os.sep + sub_fold + os.sep + POSITIVE_FOLDER\n",
    "\n",
    "            negative_source_fold_path = base_dir + os.sep + 'fold' + str(fold) + os.sep + sub_fold + os.sep + NEGATIVE_FOLDER          \n",
    "            \n",
    "\n",
    "            positive_filelist = os.listdir(positive_source_fold_path)\n",
    "            positive_filelist = np.asarray(positive_filelist)\n",
    "            positive_filecount = len(positive_filelist)\n",
    "\n",
    "            negative_filecount = len(os.listdir(negative_source_fold_path))\n",
    "\n",
    "            n_for_resample = negative_filecount - positive_filecount\n",
    "\n",
    "            replicated_samples = resample(positive_filelist, replace=True, n_samples=n_for_resample)\n",
    "\n",
    "            \n",
    "            i_fold = 1\n",
    "            count = 0\n",
    "            for sample in replicated_samples:\n",
    "                dest_fold_path = dest_dir + os.sep + 'fold' + str(i_fold) + os.sep + sub_fold + os.sep + POSITIVE_FOLDER            \n",
    "\n",
    "                os.makedirs(dest_fold_path, exist_ok=True)\n",
    "\n",
    "                filename, extension = sample.split('.')\n",
    "\n",
    "                source_file_path = positive_source_fold_path + os.sep + sample\n",
    "                dest_file_path = dest_fold_path + os.sep + filename + '_' + str(count) + '.' + extension\n",
    "\n",
    "                shutil.copy(source_file_path, dest_file_path)\n",
    "                count += 1\n",
    "\n",
    "                i_fold += 1\n",
    "                if i_fold == 6:\n",
    "                    i_fold = 1"
   ]
  },
  {
   "cell_type": "code",
   "execution_count": null,
   "id": "624f6377-f7c8-47fb-8d3f-aff9e0d6864d",
   "metadata": {},
   "outputs": [],
   "source": []
  }
 ],
 "metadata": {
  "kernelspec": {
   "display_name": "Python 3 (ipykernel)",
   "language": "python",
   "name": "python3"
  },
  "language_info": {
   "codemirror_mode": {
    "name": "ipython",
    "version": 3
   },
   "file_extension": ".py",
   "mimetype": "text/x-python",
   "name": "python",
   "nbconvert_exporter": "python",
   "pygments_lexer": "ipython3",
   "version": "3.8.10"
  }
 },
 "nbformat": 4,
 "nbformat_minor": 5
}
